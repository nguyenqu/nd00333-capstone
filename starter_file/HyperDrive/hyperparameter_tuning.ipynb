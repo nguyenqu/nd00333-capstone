{
  "cells": [
    {
      "cell_type": "markdown",
      "source": [
        "# Hyperparameter Tuning using HyperDrive\n",
        "\n",
        "## Import libraries for Azure Machine Learning SDK"
      ],
      "metadata": {}
    },
    {
      "cell_type": "code",
      "source": [
        "import os\n",
        "import shutil\n",
        "import numpy as np \n",
        "import pandas as pd \n",
        "import azureml.core\n",
        "import pkg_resources\n",
        "import joblib\n",
        "import requests\n",
        "import json\n",
        "\n",
        "from matplotlib import pyplot as plt\n",
        "from sklearn import datasets\n",
        "from sklearn.model_selection import train_test_split\n",
        "\n",
        "from azureml.data.dataset_factory import TabularDatasetFactory\n",
        "from azureml.widgets import RunDetails\n",
        "\n",
        "from azureml.core import Environment, Workspace, Experiment, ScriptRunConfig\n",
        "from azureml.core.conda_dependencies import CondaDependencies\n",
        "from azureml.core.model import Model, InferenceConfig\n",
        "from azureml.core.webservice import Webservice, AciWebservice\n",
        "\n",
        "from azureml.train.sklearn import SKLearn\n",
        "from azureml.train.hyperdrive.policy import BanditPolicy, MedianStoppingPolicy\n",
        "from azureml.train.hyperdrive.run import PrimaryMetricGoal\n",
        "from azureml.train.hyperdrive.runconfig import HyperDriveConfig\n",
        "from azureml.train.hyperdrive.sampling import RandomParameterSampling\n",
        "from azureml.train.hyperdrive.parameter_expressions import uniform, choice\n",
        "\n",
        "# Check the core SDK version number\n",
        "print(\"SDK version:\", azureml.core.VERSION)"
      ],
      "outputs": [
        {
          "output_type": "stream",
          "name": "stdout",
          "text": "SDK version: 1.49.0\n"
        }
      ],
      "execution_count": 1,
      "metadata": {
        "gather": {
          "logged": 1686296638753
        }
      }
    },
    {
      "cell_type": "markdown",
      "source": [
        "## Dataset\n",
        "### Initialize Workspace\n",
        "Initialize a workspace object from persisted configuration. Make sure the config file is present at .\\config.json"
      ],
      "metadata": {}
    },
    {
      "cell_type": "code",
      "source": [
        "ws = Workspace.from_config()\n",
        "\n",
        "print('Workspace name:\\t\\t' + ws.name,\n",
        "      'Resource group:\\t\\t' + ws.resource_group,\n",
        "      'Azure region:\\t\\t'   + ws.location,\n",
        "      'Subscription id:\\t'  + ws.subscription_id, sep='\\n')"
      ],
      "outputs": [
        {
          "output_type": "stream",
          "name": "stdout",
          "text": "Workspace name:\t\tquick-starts-ws-235359\nResource group:\t\taml-quickstarts-235359\nAzure region:\t\twestus2\nSubscription id:\td7f39349-a66b-446e-aba6-0053c2cf1c11\n"
        }
      ],
      "execution_count": 2,
      "metadata": {
        "gather": {
          "logged": 1686296639348
        },
        "jupyter": {
          "outputs_hidden": false,
          "source_hidden": false
        },
        "nteract": {
          "transient": {
            "deleting": false
          }
        }
      }
    },
    {
      "cell_type": "markdown",
      "source": [
        "### Create an Azure ML experiment"
      ],
      "metadata": {}
    },
    {
      "cell_type": "code",
      "source": [
        "# Name for experiment\n",
        "experiment_name = 'hyperdrive-heart-failure-experiment'\n",
        "\n",
        "experiment=Experiment(ws, experiment_name)\n",
        "run = experiment.start_logging()\n",
        "\n",
        "experiment"
      ],
      "outputs": [
        {
          "output_type": "execute_result",
          "execution_count": 3,
          "data": {
            "text/plain": "Experiment(Name: hyperdrive-heart-failure-experiment,\nWorkspace: quick-starts-ws-235359)",
            "text/html": "<table style=\"width:100%\"><tr><th>Name</th><th>Workspace</th><th>Report Page</th><th>Docs Page</th></tr><tr><td>hyperdrive-heart-failure-experiment</td><td>quick-starts-ws-235359</td><td><a href=\"https://ml.azure.com/experiments/id/36876f2c-a2da-4939-983d-9790adff1997?wsid=/subscriptions/d7f39349-a66b-446e-aba6-0053c2cf1c11/resourcegroups/aml-quickstarts-235359/workspaces/quick-starts-ws-235359&amp;tid=660b3398-b80e-49d2-bc5b-ac1dc93b5254\" target=\"_blank\" rel=\"noopener\">Link to Azure Machine Learning studio</a></td><td><a href=\"https://docs.microsoft.com/en-us/python/api/azureml-core/azureml.core.experiment.Experiment?view=azure-ml-py\" target=\"_blank\" rel=\"noopener\">Link to Documentation</a></td></tr></table>"
          },
          "metadata": {}
        }
      ],
      "execution_count": 3,
      "metadata": {
        "gather": {
          "logged": 1686296641289
        }
      }
    },
    {
      "cell_type": "markdown",
      "source": [
        "### Create or Attach an AmlCompute Target\n",
        "We will need to create a compute target for our AutoML run. We will use ***vm_size = Standard_DS3_v2*** in our provisioning configuration and select ***max_nodes*** to be no greater than 4."
      ],
      "metadata": {}
    },
    {
      "cell_type": "code",
      "source": [
        "from azureml.core.compute import ComputeTarget, AmlCompute\n",
        "from azureml.core.compute_target import ComputeTargetException\n",
        "\n",
        "# Name for the CPU cluster\n",
        "amlcompute_cluster_name = \"hyperdrive-cpu-compute-cluster\"\n",
        "\n",
        "# Verify that cluster does not exist already\n",
        "try:\n",
        "    amlcompute_target = ComputeTarget(workspace=ws, name=amlcompute_cluster_name)\n",
        "    print('Found existing cluster, use it.')\n",
        "except ComputeTargetException:\n",
        "    amlcompute_config = AmlCompute.provisioning_configuration(vm_size='Standard_DS3_v2', max_nodes=4)\n",
        "    amlcompute_target = ComputeTarget.create(ws, amlcompute_cluster_name, amlcompute_config)\n",
        "\n",
        "amlcompute_target.wait_for_completion(show_output=True)"
      ],
      "outputs": [
        {
          "output_type": "stream",
          "name": "stdout",
          "text": "Found existing cluster, use it.\nSucceeded\nAmlCompute wait for completion finished\n\nMinimum number of nodes requested have been provisioned\n"
        }
      ],
      "execution_count": 4,
      "metadata": {
        "gather": {
          "logged": 1686296641668
        }
      }
    },
    {
      "cell_type": "code",
      "source": [
        "compute_targets = ws.compute_targets\n",
        "\n",
        "for i, key in enumerate(compute_targets):\n",
        "    print(f\"{i+1}. Compute target\\n\\tname: {compute_targets[key].name}\\n\\tType: {compute_targets[key].type}\")"
      ],
      "outputs": [
        {
          "output_type": "stream",
          "name": "stdout",
          "text": "1. Compute target\n\tname: notebook235359\n\tType: ComputeInstance\n2. Compute target\n\tname: automl-cpu-compute-cluster\n\tType: AmlCompute\n3. Compute target\n\tname: hyperdrive-cpu-compute-cluster\n\tType: AmlCompute\n"
        }
      ],
      "execution_count": 5,
      "metadata": {
        "gather": {
          "logged": 1686296642077
        }
      }
    },
    {
      "cell_type": "code",
      "source": [
        "# For a more detailed view of current AmlCompute status, use get_status().\n",
        "print(amlcompute_target.get_status().serialize())"
      ],
      "outputs": [
        {
          "output_type": "stream",
          "name": "stdout",
          "text": "{'currentNodeCount': 4, 'targetNodeCount': 4, 'nodeStateCounts': {'preparingNodeCount': 0, 'runningNodeCount': 0, 'idleNodeCount': 4, 'unusableNodeCount': 0, 'leavingNodeCount': 0, 'preemptedNodeCount': 0}, 'allocationState': 'Steady', 'allocationStateTransitionTime': '2023-06-09T07:30:11.277000+00:00', 'errors': None, 'creationTime': '2023-06-09T07:28:36.971140+00:00', 'modifiedTime': '2023-06-09T07:28:43.903269+00:00', 'provisioningState': 'Succeeded', 'provisioningStateTransitionTime': None, 'scaleSettings': {'minNodeCount': 0, 'maxNodeCount': 4, 'nodeIdleTimeBeforeScaleDown': 'PT1800S'}, 'vmPriority': 'Dedicated', 'vmSize': 'STANDARD_DS3_V2'}\n"
        }
      ],
      "execution_count": 6,
      "metadata": {
        "gather": {
          "logged": 1686296642493
        }
      }
    },
    {
      "cell_type": "markdown",
      "source": [
        "## Hyperdrive Configuration\n",
        "\n",
        "TODO: Explain the model you are using and the reason for chosing the different hyperparameters, termination policy and config settings.\n",
        "\n",
        "The pipeline we use here consists of a custom logistic regression model of the scikit-learn model stored in the ***train.py*** script and a hyperdrive run that iterates through the model parameters.\n",
        "- Setting logistic regression parameters:\n",
        "    - --C - Inverse of regularization strenght\n",
        "    - --max_iter - Maximum number of iterations convergence\n",
        "\n",
        "***RandomParameterSampling*** defines random sampling over a hyperparameter search space. This sampling algorithm selects parameter values from a series of discrete values or a distribution over a continuous range. This has an advantage over the GridSearch method, which executes all combinations of parameters and takes a long time to execute.\n",
        "\n",
        "For the \"*Inverse of regularization strength*\" parameter, I chose a uniform distribution with min=0.0001 and max=1.0. For the maximum number of iterations convergence, I entered a range of values (5, 25, 50, 100, 200, 500, 1000).\n",
        "\n",
        "***BanditPolicy*** class Defines a early termination policy based on Slack criteria and a frequency and delay interval for evaluation. This goes a long way towards ensuring that if a model with certain parameters does not work well, it is rejected instead of letting it run longer.\n",
        "\n",
        "The training takes place on the local computing target. Accuracy was chosen as the primary metric with the goal of maximizing accuracy. To keep the training short, max_total_runs was set to 50 and max_duration_minutes to 20.\n",
        "\n",
        "***max_concurrent_runs = 4*** : The maximum number of iterations that could be run in parallel. It is recommended to create a dedicated cluster per experiment and adjust the number of max_concurrent_iterations of your experiment to the number of nodes in the cluster. In this way you use all nodes of the cluster at the same time with the desired number of concurrent child runs/iterations. So I set the value to 4."
      ],
      "metadata": {
        "collapsed": true,
        "gather": {
          "logged": 1598531923519
        },
        "jupyter": {
          "outputs_hidden": false,
          "source_hidden": false
        },
        "nteract": {
          "transient": {
            "deleting": false
          }
        }
      }
    },
    {
      "cell_type": "code",
      "source": [
        "# TODO: Create an early termination policy. This is not required if you are using Bayesian sampling.\n",
        "###early_termination_policy = <your policy here>\n",
        "early_termination_policy = BanditPolicy(evaluation_interval=2, slack_factor=0.1)\n",
        "\n",
        "#TODO: Create the different params that you will be using during training\n",
        "###param_sampling = <your params here>\n",
        "param_sampling = RandomParameterSampling(\n",
        "    {\n",
        "        \"--C\": uniform(0.0001, 1.0),\n",
        "        \"--max_iter\": choice(5, 25, 50, 100, 200, 500, 1000)\n",
        "    }\n",
        ")\n",
        "\n",
        "script_folder = \"./training\"\n",
        "\n",
        "if \"training\" not in os.listdir():\n",
        "    os.mkdir(script_folder)\n",
        "    \n",
        "shutil.copy('./train.py', script_folder)\n",
        "\n",
        "\n",
        "'''\n",
        "#TODO: Create your estimator and hyperdrive config\n",
        "##estimator = <your estimator here>\n",
        "estimator = SKLearn(source_directory=script_folder,\n",
        "                    compute_target=amlcompute_target,\n",
        "                    entry_script=\"train.py\")\n",
        "\n",
        "##hyperdrive_run_config = <your config here?\n",
        "hyperdrive_run_config = HyperDriveConfig(estimator=estimator, \n",
        "                                        hyperparameter_sampling=param_sampling, \n",
        "                                        policy=early_termination_policy, \n",
        "                                        primary_metric_name='Accuracy',\n",
        "                                        primary_metric_goal=PrimaryMetricGoal.MAXIMIZE, \n",
        "                                        max_total_runs=50,   \n",
        "                                        max_duration_minutes=20,\n",
        "                                        max_concurrent_runs=4) \n",
        "'''\n",
        "'''\n",
        "SKLearn' estimator is deprecated. Please use 'ScriptRunConfig' from 'azureml.core.script_run_config' \n",
        "with your own defined environment or the AzureML-Tutorial curated environment.\n",
        "'''\n",
        "\n",
        "# Setup environment for the training run\n",
        "sklearn_env = Environment.get(workspace=ws, name='AzureML-Tutorial')\n",
        "\n",
        "# Create a ScriptRunConfig Object to specify the configuration details of your training job\n",
        "src = ScriptRunConfig(source_directory=script_folder, \n",
        "                      script='train.py', \n",
        "                      compute_target=amlcompute_target, \n",
        "                      environment=sklearn_env)\n",
        "\n",
        "# Create a HyperDriveConfig using the src object, hyperparameter sampler, and policy.\n",
        "hyperdrive_run_config = HyperDriveConfig(run_config=src, \n",
        "                                     hyperparameter_sampling=param_sampling, \n",
        "                                     policy=early_termination_policy, \n",
        "                                     primary_metric_name='Accuracy',\n",
        "                                     primary_metric_goal=PrimaryMetricGoal.MAXIMIZE, \n",
        "                                     max_total_runs=50,   \n",
        "                                     max_duration_minutes=20,\n",
        "                                     max_concurrent_runs=4)  \n",
        "\n",
        "sklearn_env"
      ],
      "outputs": [
        {
          "output_type": "execute_result",
          "execution_count": 7,
          "data": {
            "text/plain": "{\n    \"assetId\": \"azureml://registries/azureml/environments/AzureML-Tutorial/versions/88\",\n    \"databricks\": {\n        \"eggLibraries\": [],\n        \"jarLibraries\": [],\n        \"mavenLibraries\": [],\n        \"pypiLibraries\": [],\n        \"rcranLibraries\": []\n    },\n    \"docker\": {\n        \"arguments\": [],\n        \"baseDockerfile\": null,\n        \"baseImage\": \"mcr.microsoft.com/azureml/intelmpi2018.3-ubuntu16.04:20210507.v1\",\n        \"baseImageRegistry\": {\n            \"address\": null,\n            \"password\": null,\n            \"registryIdentity\": null,\n            \"username\": null\n        },\n        \"buildContext\": null,\n        \"enabled\": false,\n        \"platform\": {\n            \"architecture\": \"amd64\",\n            \"os\": \"Linux\"\n        },\n        \"sharedVolumes\": true,\n        \"shmSize\": null\n    },\n    \"environmentVariables\": {\n        \"EXAMPLE_ENV_VAR\": \"EXAMPLE_VALUE\"\n    },\n    \"inferencingStackVersion\": null,\n    \"name\": \"AzureML-Tutorial\",\n    \"python\": {\n        \"baseCondaEnvironment\": null,\n        \"condaDependencies\": {\n            \"channels\": [\n                \"anaconda\",\n                \"conda-forge\"\n            ],\n            \"dependencies\": [\n                \"python=3.6.2\",\n                {\n                    \"pip\": [\n                        \"azureml-core==1.37.0.post1\",\n                        \"azureml-defaults==1.37.0\",\n                        \"azureml-telemetry==1.37.0\",\n                        \"azureml-train-restclients-hyperdrive==1.37.0\",\n                        \"azureml-train-core==1.37.0\",\n                        \"azureml-widgets==1.37.0\",\n                        \"azureml-pipeline-core==1.37.0\",\n                        \"azureml-pipeline-steps==1.37.0\",\n                        \"azureml-opendatasets==1.37.0\",\n                        \"azureml-automl-core==1.37.0\",\n                        \"azureml-automl-runtime==1.37.0\",\n                        \"azureml-train-automl-client==1.37.0\",\n                        \"azureml-train-automl-runtime==1.37.0\",\n                        \"azureml-train-automl==1.37.0\",\n                        \"azureml-train==1.37.0\",\n                        \"azureml-sdk==1.37.0\",\n                        \"azureml-interpret==1.37.0\",\n                        \"azureml-tensorboard==1.37.0\",\n                        \"azureml-mlflow==1.37.0\",\n                        \"mlflow\",\n                        \"sklearn-pandas\"\n                    ]\n                },\n                \"pandas\",\n                \"numpy\",\n                \"tqdm\",\n                \"scikit-learn\",\n                \"matplotlib\"\n            ],\n            \"name\": \"azureml_1296d9ccb6d6509a0126eeef4e26fcc9\"\n        },\n        \"condaDependenciesFile\": null,\n        \"interpreterPath\": \"python\",\n        \"userManagedDependencies\": false\n    },\n    \"r\": null,\n    \"spark\": {\n        \"packages\": [],\n        \"precachePackages\": true,\n        \"repositories\": []\n    },\n    \"version\": \"88\"\n}"
          },
          "metadata": {}
        }
      ],
      "execution_count": 7,
      "metadata": {
        "gather": {
          "logged": 1686296642973
        },
        "jupyter": {
          "outputs_hidden": false,
          "source_hidden": false
        },
        "nteract": {
          "transient": {
            "deleting": false
          }
        }
      }
    },
    {
      "cell_type": "code",
      "source": [
        "#TODO: Submit your experiment\n",
        "# Submit the experiment on the configured remote compute cluster\n",
        "hyperdrive_run = experiment.submit(config=hyperdrive_run_config)"
      ],
      "outputs": [],
      "execution_count": 8,
      "metadata": {
        "gather": {
          "logged": 1686296643670
        },
        "jupyter": {
          "outputs_hidden": false,
          "source_hidden": false
        },
        "nteract": {
          "transient": {
            "deleting": false
          }
        }
      }
    },
    {
      "cell_type": "code",
      "source": [
        "# Wait for the cluster to complete, show the output log\n",
        "hyperdrive_run.wait_for_completion(show_output=True)"
      ],
      "outputs": [
        {
          "output_type": "stream",
          "name": "stdout",
          "text": "RunId: HD_e1563117-9fef-440e-bc23-eab28c4ba302\nWeb View: https://ml.azure.com/runs/HD_e1563117-9fef-440e-bc23-eab28c4ba302?wsid=/subscriptions/d7f39349-a66b-446e-aba6-0053c2cf1c11/resourcegroups/aml-quickstarts-235359/workspaces/quick-starts-ws-235359&tid=660b3398-b80e-49d2-bc5b-ac1dc93b5254\n\nStreaming azureml-logs/hyperdrive.txt\n=====================================\n\n[2023-06-09T07:44:03.870832][GENERATOR][INFO]Trying to sample '4' jobs from the hyperparameter space\n[2023-06-09T07:44:04.3173307Z][SCHEDULER][INFO]Scheduling job, id='HD_e1563117-9fef-440e-bc23-eab28c4ba302_0' \n[2023-06-09T07:44:04.4822213Z][SCHEDULER][INFO]Scheduling job, id='HD_e1563117-9fef-440e-bc23-eab28c4ba302_1' \n[2023-06-09T07:44:04.6236798Z][SCHEDULER][INFO]Scheduling job, id='HD_e1563117-9fef-440e-bc23-eab28c4ba302_2' \n[2023-06-09T07:44:04.655657][GENERATOR][INFO]Successfully sampled '4' jobs, they will soon be submitted to the execution target.\n[2023-06-09T07:44:04.8471794Z][SCHEDULER][INFO]Successfully scheduled a job. Id='HD_e1563117-9fef-440e-bc23-eab28c4ba302_0' \n[2023-06-09T07:44:04.8749492Z][SCHEDULER][INFO]Scheduling job, id='HD_e1563117-9fef-440e-bc23-eab28c4ba302_3' \n[2023-06-09T07:44:04.9320588Z][SCHEDULER][INFO]Successfully scheduled a job. Id='HD_e1563117-9fef-440e-bc23-eab28c4ba302_2' \n[2023-06-09T07:44:04.9152335Z][SCHEDULER][INFO]Successfully scheduled a job. Id='HD_e1563117-9fef-440e-bc23-eab28c4ba302_1' \n[2023-06-09T07:44:05.3035286Z][SCHEDULER][INFO]Successfully scheduled a job. Id='HD_e1563117-9fef-440e-bc23-eab28c4ba302_3' \n[2023-06-09T07:44:34.163417][GENERATOR][INFO]Trying to sample '4' jobs from the hyperparameter space\n[2023-06-09T07:44:34.4322904Z][SCHEDULER][INFO]Scheduling job, id='HD_e1563117-9fef-440e-bc23-eab28c4ba302_4' \n[2023-06-09T07:44:34.5365899Z][SCHEDULER][INFO]Scheduling job, id='HD_e1563117-9fef-440e-bc23-eab28c4ba302_5' \n[2023-06-09T07:44:34.6613126Z][SCHEDULER][INFO]Scheduling job, id='HD_e1563117-9fef-440e-bc23-eab28c4ba302_6' \n[2023-06-09T07:44:34.6974272Z][SCHEDULER][INFO]Scheduling job, id='HD_e1563117-9fef-440e-bc23-eab28c4ba302_7' \n[2023-06-09T07:44:34.641915][GENERATOR][INFO]Successfully sampled '4' jobs, they will soon be submitted to the execution target.\n[2023-06-09T07:44:34.7473268Z][SCHEDULER][INFO]Successfully scheduled a job. Id='HD_e1563117-9fef-440e-bc23-eab28c4ba302_4' \n[2023-06-09T07:44:34.8269227Z][SCHEDULER][INFO]Successfully scheduled a job. Id='HD_e1563117-9fef-440e-bc23-eab28c4ba302_5' \n[2023-06-09T07:44:34.9696345Z][SCHEDULER][INFO]Successfully scheduled a job. Id='HD_e1563117-9fef-440e-bc23-eab28c4ba302_6' \n[2023-06-09T07:44:35.0444353Z][SCHEDULER][INFO]Successfully scheduled a job. Id='HD_e1563117-9fef-440e-bc23-eab28c4ba302_7' \n[2023-06-09T07:45:03.311862][CONTROLLER][WARNING][HDFlowDebug]The first 4 jobs have failed due to usererror. The system is cancelling the further child runs and failing the experiment. Please resolve the issues before resubmitting the experiment.\n[2023-06-09T07:45:03.311801][CONTROLLER][INFO]Experiment has been marked for cancellation.\n[2023-06-09T07:46:04.296023][CONTROLLER][WARNING]Marking the experiment for user error because initial child jobs have failed due to user error\n[2023-06-09T07:46:04.471723][CONTROLLER][WARNING]Marking the experiment for user error because initial child jobs have failed due to user error\n[2023-06-09T07:46:04.471672][CONTROLLER][INFO]Experiment has been marked for failure.\n[2023-06-09T07:46:04.656707][CONTROLLER][INFO]Experiment has been marked for failure.\n[2023-06-09T07:46:04.656756][CONTROLLER][WARNING]User errors were found in at least one of the child runs.\n[2023-06-09T07:46:05.353894][CONTROLLER][INFO]Experiment was 'ExperimentStatus.RUNNING', is 'ExperimentStatus.FAILED'.\n\nExecution Summary\n=================\nRunId: HD_e1563117-9fef-440e-bc23-eab28c4ba302\nWeb View: https://ml.azure.com/runs/HD_e1563117-9fef-440e-bc23-eab28c4ba302?wsid=/subscriptions/d7f39349-a66b-446e-aba6-0053c2cf1c11/resourcegroups/aml-quickstarts-235359/workspaces/quick-starts-ws-235359&tid=660b3398-b80e-49d2-bc5b-ac1dc93b5254\n\nWarnings:\nExecution failed. User process '/azureml-envs/azureml_1296d9ccb6d6509a0126eeef4e26fcc9/bin/python' exited with status code 1. Please check log file 'user_logs/std_log.txt' for error details. Error:   File \"/azureml-envs/azureml_1296d9ccb6d6509a0126eeef4e2\nExecution failed. User process '/azureml-envs/azureml_1296d9ccb6d6509a0126eeef4e26fcc9/bin/python' exited with status code 1. Please check log file 'user_logs/std_log.txt' for error details. Error:   File \"/azureml-envs/azureml_1296d9ccb6d6509a0126eeef4e2\n\n"
        },
        {
          "output_type": "error",
          "ename": "ActivityFailedException",
          "evalue": "ActivityFailedException:\n\tMessage: Activity Failed:\n{\n    \"error\": {\n        \"code\": \"UserError\",\n        \"message\": \"Execution failed. User process '/azureml-envs/azureml_1296d9ccb6d6509a0126eeef4e26fcc9/bin/python' exited with status code 1. Please check log file 'user_logs/std_log.txt' for error details. Error:   File \\\"/azureml-envs/azureml_1296d9ccb6d6509a0126eeef4e26fcc9/lib/python3.6/site-packages/azureml/data/_loggerfactory.py\\\", line 132, in wrapper\\n    return func(*args, **kwargs)\\n  File \\\"/azureml-envs/azureml_1296d9ccb6d6509a0126eeef4e26fcc9/lib/python3.6/site-packages/azureml/data/dataset_factory.py\\\", line 369, in from_delimited_files\\n    infer_column_types or _is_inference_required(set_column_types))\\n  File \\\"/azureml-envs/azureml_1296d9ccb6d6509a0126eeef4e26fcc9/lib/python3.6/site-packages/azureml/data/dataset_factory.py\\\", line 1166, in _transform_and_validate\\n    _validate_has_data(dataflow, 'Failed to validate the data.')\\n  File \\\"/azureml-envs/azureml_1296d9ccb6d6509a0126eeef4e26fcc9/lib/python3.6/site-packages/azureml/data/dataset_error_handling.py\\\", line 68, in _validate_has_data\\n    raise DatasetValidationError(error_message + '\\\\n' + e.compliant_message, exception=e)\\nazureml.data.dataset_error_handling.DatasetValidationError: DatasetValidationError:\\n\\tMessage: Failed to validate the data.\\nThe Dataflow produced no records.| session_id=290a6b39-96d5-4f42-bb26-d928fe6e770c\\n\\tInnerException None\\n\\tErrorResponse \\n{\\n    \\\"error\\\": {\\n        \\\"code\\\": \\\"UserError\\\",\\n        \\\"message\\\": \\\"Failed to validate the data.\\\\nThe Dataflow produced no records.| session_id=290a6b39-96d5-4f42-bb26-d928fe6e770c\\\"\\n    }\\n}\\n\\n Marking the experiment as failed because initial child jobs have failed due to user error\",\n        \"messageParameters\": {},\n        \"details\": []\n    },\n    \"time\": \"0001-01-01T00:00:00.000Z\"\n}\n\tInnerException None\n\tErrorResponse \n{\n    \"error\": {\n        \"message\": \"Activity Failed:\\n{\\n    \\\"error\\\": {\\n        \\\"code\\\": \\\"UserError\\\",\\n        \\\"message\\\": \\\"Execution failed. User process '/azureml-envs/azureml_1296d9ccb6d6509a0126eeef4e26fcc9/bin/python' exited with status code 1. Please check log file 'user_logs/std_log.txt' for error details. Error:   File \\\\\\\"/azureml-envs/azureml_1296d9ccb6d6509a0126eeef4e26fcc9/lib/python3.6/site-packages/azureml/data/_loggerfactory.py\\\\\\\", line 132, in wrapper\\\\n    return func(*args, **kwargs)\\\\n  File \\\\\\\"/azureml-envs/azureml_1296d9ccb6d6509a0126eeef4e26fcc9/lib/python3.6/site-packages/azureml/data/dataset_factory.py\\\\\\\", line 369, in from_delimited_files\\\\n    infer_column_types or _is_inference_required(set_column_types))\\\\n  File \\\\\\\"/azureml-envs/azureml_1296d9ccb6d6509a0126eeef4e26fcc9/lib/python3.6/site-packages/azureml/data/dataset_factory.py\\\\\\\", line 1166, in _transform_and_validate\\\\n    _validate_has_data(dataflow, 'Failed to validate the data.')\\\\n  File \\\\\\\"/azureml-envs/azureml_1296d9ccb6d6509a0126eeef4e26fcc9/lib/python3.6/site-packages/azureml/data/dataset_error_handling.py\\\\\\\", line 68, in _validate_has_data\\\\n    raise DatasetValidationError(error_message + '\\\\\\\\n' + e.compliant_message, exception=e)\\\\nazureml.data.dataset_error_handling.DatasetValidationError: DatasetValidationError:\\\\n\\\\tMessage: Failed to validate the data.\\\\nThe Dataflow produced no records.| session_id=290a6b39-96d5-4f42-bb26-d928fe6e770c\\\\n\\\\tInnerException None\\\\n\\\\tErrorResponse \\\\n{\\\\n    \\\\\\\"error\\\\\\\": {\\\\n        \\\\\\\"code\\\\\\\": \\\\\\\"UserError\\\\\\\",\\\\n        \\\\\\\"message\\\\\\\": \\\\\\\"Failed to validate the data.\\\\\\\\nThe Dataflow produced no records.| session_id=290a6b39-96d5-4f42-bb26-d928fe6e770c\\\\\\\"\\\\n    }\\\\n}\\\\n\\\\n Marking the experiment as failed because initial child jobs have failed due to user error\\\",\\n        \\\"messageParameters\\\": {},\\n        \\\"details\\\": []\\n    },\\n    \\\"time\\\": \\\"0001-01-01T00:00:00.000Z\\\"\\n}\"\n    }\n}",
          "traceback": [
            "\u001b[0;31m---------------------------------------------------------------------------\u001b[0m",
            "\u001b[0;31mActivityFailedException\u001b[0m                   Traceback (most recent call last)",
            "Cell \u001b[0;32mIn[9], line 2\u001b[0m\n\u001b[1;32m      1\u001b[0m \u001b[38;5;66;03m# Wait for the cluster to complete, show the output log\u001b[39;00m\n\u001b[0;32m----> 2\u001b[0m \u001b[43mhyperdrive_run\u001b[49m\u001b[38;5;241;43m.\u001b[39;49m\u001b[43mwait_for_completion\u001b[49m\u001b[43m(\u001b[49m\u001b[43mshow_output\u001b[49m\u001b[38;5;241;43m=\u001b[39;49m\u001b[38;5;28;43;01mTrue\u001b[39;49;00m\u001b[43m)\u001b[49m\n",
            "File \u001b[0;32m/anaconda/envs/azureml_py38/lib/python3.8/site-packages/azureml/core/run.py:849\u001b[0m, in \u001b[0;36mRun.wait_for_completion\u001b[0;34m(self, show_output, wait_post_processing, raise_on_error)\u001b[0m\n\u001b[1;32m    847\u001b[0m \u001b[38;5;28;01mif\u001b[39;00m show_output:\n\u001b[1;32m    848\u001b[0m     \u001b[38;5;28;01mtry\u001b[39;00m:\n\u001b[0;32m--> 849\u001b[0m         \u001b[38;5;28;43mself\u001b[39;49m\u001b[38;5;241;43m.\u001b[39;49m\u001b[43m_stream_run_output\u001b[49m\u001b[43m(\u001b[49m\n\u001b[1;32m    850\u001b[0m \u001b[43m            \u001b[49m\u001b[43mfile_handle\u001b[49m\u001b[38;5;241;43m=\u001b[39;49m\u001b[43msys\u001b[49m\u001b[38;5;241;43m.\u001b[39;49m\u001b[43mstdout\u001b[49m\u001b[43m,\u001b[49m\n\u001b[1;32m    851\u001b[0m \u001b[43m            \u001b[49m\u001b[43mwait_post_processing\u001b[49m\u001b[38;5;241;43m=\u001b[39;49m\u001b[43mwait_post_processing\u001b[49m\u001b[43m,\u001b[49m\n\u001b[1;32m    852\u001b[0m \u001b[43m            \u001b[49m\u001b[43mraise_on_error\u001b[49m\u001b[38;5;241;43m=\u001b[39;49m\u001b[43mraise_on_error\u001b[49m\u001b[43m)\u001b[49m\n\u001b[1;32m    853\u001b[0m         \u001b[38;5;28;01mreturn\u001b[39;00m \u001b[38;5;28mself\u001b[39m\u001b[38;5;241m.\u001b[39mget_details()\n\u001b[1;32m    854\u001b[0m     \u001b[38;5;28;01mexcept\u001b[39;00m \u001b[38;5;167;01mKeyboardInterrupt\u001b[39;00m:\n",
            "File \u001b[0;32m/anaconda/envs/azureml_py38/lib/python3.8/site-packages/azureml/core/run.py:1102\u001b[0m, in \u001b[0;36mRun._stream_run_output\u001b[0;34m(self, file_handle, wait_post_processing, raise_on_error)\u001b[0m\n\u001b[1;32m   1100\u001b[0m         file_handle\u001b[38;5;241m.\u001b[39mwrite(\u001b[38;5;124m\"\u001b[39m\u001b[38;5;130;01m\\n\u001b[39;00m\u001b[38;5;124m\"\u001b[39m)\n\u001b[1;32m   1101\u001b[0m     \u001b[38;5;28;01melse\u001b[39;00m:\n\u001b[0;32m-> 1102\u001b[0m         \u001b[38;5;28;01mraise\u001b[39;00m ActivityFailedException(error_details\u001b[38;5;241m=\u001b[39mjson\u001b[38;5;241m.\u001b[39mdumps(error, indent\u001b[38;5;241m=\u001b[39m\u001b[38;5;241m4\u001b[39m))\n\u001b[1;32m   1104\u001b[0m file_handle\u001b[38;5;241m.\u001b[39mwrite(\u001b[38;5;124m\"\u001b[39m\u001b[38;5;130;01m\\n\u001b[39;00m\u001b[38;5;124m\"\u001b[39m)\n\u001b[1;32m   1105\u001b[0m file_handle\u001b[38;5;241m.\u001b[39mflush()\n",
            "\u001b[0;31mActivityFailedException\u001b[0m: ActivityFailedException:\n\tMessage: Activity Failed:\n{\n    \"error\": {\n        \"code\": \"UserError\",\n        \"message\": \"Execution failed. User process '/azureml-envs/azureml_1296d9ccb6d6509a0126eeef4e26fcc9/bin/python' exited with status code 1. Please check log file 'user_logs/std_log.txt' for error details. Error:   File \\\"/azureml-envs/azureml_1296d9ccb6d6509a0126eeef4e26fcc9/lib/python3.6/site-packages/azureml/data/_loggerfactory.py\\\", line 132, in wrapper\\n    return func(*args, **kwargs)\\n  File \\\"/azureml-envs/azureml_1296d9ccb6d6509a0126eeef4e26fcc9/lib/python3.6/site-packages/azureml/data/dataset_factory.py\\\", line 369, in from_delimited_files\\n    infer_column_types or _is_inference_required(set_column_types))\\n  File \\\"/azureml-envs/azureml_1296d9ccb6d6509a0126eeef4e26fcc9/lib/python3.6/site-packages/azureml/data/dataset_factory.py\\\", line 1166, in _transform_and_validate\\n    _validate_has_data(dataflow, 'Failed to validate the data.')\\n  File \\\"/azureml-envs/azureml_1296d9ccb6d6509a0126eeef4e26fcc9/lib/python3.6/site-packages/azureml/data/dataset_error_handling.py\\\", line 68, in _validate_has_data\\n    raise DatasetValidationError(error_message + '\\\\n' + e.compliant_message, exception=e)\\nazureml.data.dataset_error_handling.DatasetValidationError: DatasetValidationError:\\n\\tMessage: Failed to validate the data.\\nThe Dataflow produced no records.| session_id=290a6b39-96d5-4f42-bb26-d928fe6e770c\\n\\tInnerException None\\n\\tErrorResponse \\n{\\n    \\\"error\\\": {\\n        \\\"code\\\": \\\"UserError\\\",\\n        \\\"message\\\": \\\"Failed to validate the data.\\\\nThe Dataflow produced no records.| session_id=290a6b39-96d5-4f42-bb26-d928fe6e770c\\\"\\n    }\\n}\\n\\n Marking the experiment as failed because initial child jobs have failed due to user error\",\n        \"messageParameters\": {},\n        \"details\": []\n    },\n    \"time\": \"0001-01-01T00:00:00.000Z\"\n}\n\tInnerException None\n\tErrorResponse \n{\n    \"error\": {\n        \"message\": \"Activity Failed:\\n{\\n    \\\"error\\\": {\\n        \\\"code\\\": \\\"UserError\\\",\\n        \\\"message\\\": \\\"Execution failed. User process '/azureml-envs/azureml_1296d9ccb6d6509a0126eeef4e26fcc9/bin/python' exited with status code 1. Please check log file 'user_logs/std_log.txt' for error details. Error:   File \\\\\\\"/azureml-envs/azureml_1296d9ccb6d6509a0126eeef4e26fcc9/lib/python3.6/site-packages/azureml/data/_loggerfactory.py\\\\\\\", line 132, in wrapper\\\\n    return func(*args, **kwargs)\\\\n  File \\\\\\\"/azureml-envs/azureml_1296d9ccb6d6509a0126eeef4e26fcc9/lib/python3.6/site-packages/azureml/data/dataset_factory.py\\\\\\\", line 369, in from_delimited_files\\\\n    infer_column_types or _is_inference_required(set_column_types))\\\\n  File \\\\\\\"/azureml-envs/azureml_1296d9ccb6d6509a0126eeef4e26fcc9/lib/python3.6/site-packages/azureml/data/dataset_factory.py\\\\\\\", line 1166, in _transform_and_validate\\\\n    _validate_has_data(dataflow, 'Failed to validate the data.')\\\\n  File \\\\\\\"/azureml-envs/azureml_1296d9ccb6d6509a0126eeef4e26fcc9/lib/python3.6/site-packages/azureml/data/dataset_error_handling.py\\\\\\\", line 68, in _validate_has_data\\\\n    raise DatasetValidationError(error_message + '\\\\\\\\n' + e.compliant_message, exception=e)\\\\nazureml.data.dataset_error_handling.DatasetValidationError: DatasetValidationError:\\\\n\\\\tMessage: Failed to validate the data.\\\\nThe Dataflow produced no records.| session_id=290a6b39-96d5-4f42-bb26-d928fe6e770c\\\\n\\\\tInnerException None\\\\n\\\\tErrorResponse \\\\n{\\\\n    \\\\\\\"error\\\\\\\": {\\\\n        \\\\\\\"code\\\\\\\": \\\\\\\"UserError\\\\\\\",\\\\n        \\\\\\\"message\\\\\\\": \\\\\\\"Failed to validate the data.\\\\\\\\nThe Dataflow produced no records.| session_id=290a6b39-96d5-4f42-bb26-d928fe6e770c\\\\\\\"\\\\n    }\\\\n}\\\\n\\\\n Marking the experiment as failed because initial child jobs have failed due to user error\\\",\\n        \\\"messageParameters\\\": {},\\n        \\\"details\\\": []\\n    },\\n    \\\"time\\\": \\\"0001-01-01T00:00:00.000Z\\\"\\n}\"\n    }\n}"
          ]
        }
      ],
      "execution_count": 9,
      "metadata": {
        "gather": {
          "logged": 1686296766221
        }
      }
    },
    {
      "cell_type": "markdown",
      "source": [
        "## Run Details\n",
        "\n",
        "OPTIONAL: Write about the different models trained and their performance. Why do you think some models did better than others?\n",
        "\n",
        "Use the `RunDetails` widget to show the different experiments."
      ],
      "metadata": {
        "collapsed": true,
        "gather": {
          "logged": 1598544898497
        },
        "jupyter": {
          "outputs_hidden": false,
          "source_hidden": false
        },
        "nteract": {
          "transient": {
            "deleting": false
          }
        }
      }
    },
    {
      "cell_type": "code",
      "source": [
        "RunDetails(hyperdrive_run).show()\n",
        "for children_run in hyperdrive_run.get_children():\n",
        "    print('-----------------------------------')\n",
        "    print(children_run)"
      ],
      "outputs": [],
      "execution_count": null,
      "metadata": {
        "gather": {
          "logged": 1686296768086
        },
        "jupyter": {
          "outputs_hidden": false,
          "source_hidden": false
        },
        "nteract": {
          "transient": {
            "deleting": false
          }
        }
      }
    },
    {
      "cell_type": "markdown",
      "source": [
        "## Best Model\n",
        "\n",
        "TODO: In the cell below, get the best model from the hyperdrive experiments and display all the properties of the model."
      ],
      "metadata": {}
    },
    {
      "cell_type": "code",
      "source": [
        "# evaluate if the the run is indeed complete\n",
        "assert(hyperdrive_run.get_status() == \"Completed\")"
      ],
      "outputs": [],
      "execution_count": null,
      "metadata": {
        "gather": {
          "logged": 1686296768117
        },
        "jupyter": {
          "outputs_hidden": false,
          "source_hidden": false
        },
        "nteract": {
          "transient": {
            "deleting": false
          }
        }
      }
    },
    {
      "cell_type": "code",
      "source": [
        "# Each child in the result has run id, hyperparameters, best primary metric value and status.\n",
        "print(hyperdrive_run.get_children_sorted_by_primary_metric(top=0, reverse=False, discard_no_metric=False))\n",
        "\n",
        "# get the best run and display the properties of the model\n",
        "best_run = hyperdrive_run.get_best_run_by_primary_metric()\n",
        "best_run_metrics = best_run.get_metrics()\n",
        "parameter_values = best_run.get_details()['runDefinition']['arguments']\n",
        "\n",
        "print(\"Best Experiment Run:\")\n",
        "print(\"-------------------------------------------\")\n",
        "print('Best Run Id: ', best_run.id)\n",
        "print('Accuracy:', best_run_metrics['Accuracy'])\n",
        "print('Regularization Strength:',best_run_metrics['Regularization Strength:'])\n",
        "print('Max iterations:',best_run_metrics['Max iterations:'])\n",
        "\n",
        "best_run"
      ],
      "outputs": [],
      "execution_count": null,
      "metadata": {
        "gather": {
          "logged": 1686296768147
        }
      }
    },
    {
      "cell_type": "code",
      "source": [
        "best_run.get_details()"
      ],
      "outputs": [],
      "execution_count": null,
      "metadata": {
        "gather": {
          "logged": 1686296768180
        }
      }
    },
    {
      "cell_type": "code",
      "source": [
        "best_run.get_metrics()"
      ],
      "outputs": [],
      "execution_count": null,
      "metadata": {
        "gather": {
          "logged": 1686296768211
        }
      }
    },
    {
      "cell_type": "code",
      "source": [
        "for primary_metric in best_run.get_metrics():\n",
        "    metric=best_run_metrics[primary_metric]\n",
        "    print(primary_metric,metric)"
      ],
      "outputs": [],
      "execution_count": null,
      "metadata": {
        "gather": {
          "logged": 1686296768233
        }
      }
    },
    {
      "cell_type": "code",
      "source": [
        "best_run.get_metrics(name='Accuracy')"
      ],
      "outputs": [],
      "execution_count": null,
      "metadata": {
        "gather": {
          "logged": 1686296768258
        }
      }
    },
    {
      "cell_type": "code",
      "source": [
        "best_run.get_properties()"
      ],
      "outputs": [],
      "execution_count": null,
      "metadata": {
        "gather": {
          "logged": 1686296768285
        }
      }
    },
    {
      "cell_type": "markdown",
      "source": [
        "### Save the best model"
      ],
      "metadata": {}
    },
    {
      "cell_type": "code",
      "source": [
        "best_run.get_file_names()"
      ],
      "outputs": [],
      "execution_count": null,
      "metadata": {
        "gather": {
          "logged": 1686296768311
        }
      }
    },
    {
      "cell_type": "code",
      "source": [
        "best_run.download_file(name='outputs/model.joblib', output_file_path='./outputs')\n",
        "best_model = best_run.register_model(model_name='best_run_hyperdrive', model_path='outputs/model.joblib')"
      ],
      "outputs": [],
      "execution_count": null,
      "metadata": {
        "gather": {
          "logged": 1686296768336
        }
      }
    },
    {
      "cell_type": "code",
      "source": [
        "from azureml.automl.core.shared import constants\n",
        "\n",
        "# create inference folder\n",
        "inference_folder = 'inference'\n",
        "if inference_folder not in os.listdir():\n",
        "    os.mkdir(inference_folder)\n",
        "\n",
        "# Save the best model, scoring script, and conda env files in inference folder\n",
        "best_run.download_file('outputs/model.joblib', inference_folder + '/best_hyperdrive_model.joblib')"
      ],
      "outputs": [],
      "execution_count": null,
      "metadata": {
        "gather": {
          "logged": 1686296768361
        }
      }
    },
    {
      "cell_type": "markdown",
      "source": [
        "### Save the environment"
      ],
      "metadata": {}
    },
    {
      "cell_type": "code",
      "source": [
        "from azureml.core.environment import Environment\n",
        "\n",
        "# get the list of environments\n",
        "Environment.list(workspace=ws).keys()"
      ],
      "outputs": [],
      "execution_count": null,
      "metadata": {
        "gather": {
          "logged": 1686296768388
        }
      }
    },
    {
      "cell_type": "code",
      "source": [
        "# save the environment\n",
        "sklearn_env.save_to_directory('env', overwrite=True)\n",
        "\n",
        "sklearn_env"
      ],
      "outputs": [],
      "execution_count": null,
      "metadata": {
        "gather": {
          "logged": 1686296768415
        }
      }
    },
    {
      "cell_type": "markdown",
      "source": [
        "## Model Deployment\n",
        "\n",
        "Remember you have to deploy only one of the two models you trained but you still need to register both the models. Perform the steps in the rest of this notebook only if you wish to deploy this model.\n",
        "\n",
        "TODO: In the cell below, register the model, create an inference config and deploy the model as a web service."
      ],
      "metadata": {
        "collapsed": true,
        "jupyter": {
          "outputs_hidden": false,
          "source_hidden": false
        },
        "nteract": {
          "transient": {
            "deleting": false
          }
        }
      }
    },
    {
      "cell_type": "code",
      "source": [
        "# Register the model\n",
        "from azureml.core.resource_configuration import ResourceConfiguration\n",
        "\n",
        "model_name = \"best_run_hyperdrive\"\n",
        "\n",
        "local_file = inference_folder + '/best_hyperdrive_model.joblib'\n",
        "\n",
        "run_id = best_run.id\n",
        "experiment_name = best_run.experiment.name\n",
        "\n",
        "model = Model.register(workspace = ws,\n",
        "                       model_name = model_name,                        # Name of the registered model in your workspace.\n",
        "                       model_path = local_file,                        # Local file to upload and register as a model.\n",
        "                       model_framework = Model.Framework.SCIKITLEARN,  # Framework used to create the model.\n",
        "                       description = 'Best autoML model to predict motality caused by heart failure.',\n",
        "                       tags={'area': 'heart-failure', 'type': 'classification'})\n",
        "\n",
        "print('Model name:', model.name)\n",
        "print('Model id:', model.id)\n",
        "print('Model version:', model.version)"
      ],
      "outputs": [],
      "execution_count": null,
      "metadata": {
        "gather": {
          "logged": 1686296768438
        }
      }
    },
    {
      "cell_type": "code",
      "source": [
        "# Create a scoring script\n",
        "%%writefile best_hyperdrive_score.py\n",
        "\n",
        "import os\n",
        "import numpy as np\n",
        "import json\n",
        "import joblib\n",
        "from azureml.core.model import Model\n",
        "\n",
        "def init():\n",
        "    global model\n",
        "    try:\n",
        "        model_path = Model.get_model_path('best_run_hyperdrive')\n",
        "        model = joblib.load(model_path)\n",
        "    except Exception as err:\n",
        "        print(\"init method error: \"+str(err))\n",
        "\n",
        "def run(data):\n",
        "    try:\n",
        "        #data = np.array(json.loads(data))\n",
        "        data = json.loads(data)\n",
        "        strn = \"extracted json\\n\"\n",
        "        data = np.array(data[\"data\"])\n",
        "        strn += \"converted data to np array\\n\"\n",
        "        result = model.predict(data)\n",
        "        strn += \"sent the data to the model for prediction\\n\"\n",
        "        print(strn)\n",
        "        return result.tolist()\n",
        "    except Exception as err:\n",
        "        return strn+\"run method error: \"+str(err)"
      ],
      "outputs": [],
      "execution_count": null,
      "metadata": {
        "gather": {
          "logged": 1686296768468
        }
      }
    },
    {
      "cell_type": "code",
      "source": [
        "# create inference configuration\n",
        "from azureml.core.environment import Environment\n",
        "from azureml.core.model import InferenceConfig\n",
        "\n",
        "#inference_config = InferenceConfig(entry_script=inference_folder + '/best_hyperdrive_score.py', environment=sklearn_env)\n",
        "inference_config = InferenceConfig(entry_script='best_hyperdrive_score.py', environment=sklearn_env)\n",
        "\n",
        "# display the environment file\n",
        "'''\n",
        "with open(file_path=inference_folder + 'automl_conda_env.yml', 'r') as file:\n",
        "    env_file = file.read()\n",
        "    print(env_file)\n",
        "'''"
      ],
      "outputs": [],
      "execution_count": null,
      "metadata": {
        "gather": {
          "logged": 1686296768504
        }
      }
    },
    {
      "cell_type": "code",
      "source": [
        "# Model Deployment\n",
        "from azureml.core.webservice import AciWebservice\n",
        "\n",
        "# define deployment configuration\n",
        "aci_deployment_config = AciWebservice.deploy_configuration(cpu_cores=1,\n",
        "                                                           memory_gb=1,\n",
        "                                                           tags={'area': \"heart-failure\", 'type': \"classification\"},\n",
        "                                                           description=\"Predict heart failure mortality using classification model\",\n",
        "                                                           auth_enabled=True,\n",
        "                                                           enable_app_insights=True)\n",
        "\n",
        "# deploy model as webservice using Azure Container Instance(ACI)\n",
        "aci_service = Model.deploy(workspace = ws, \n",
        "                           name = \"aci-heart-failure-deploy\", \n",
        "                           models = [model], \n",
        "                           inference_config = inference_config, \n",
        "                           deployment_config = aci_deployment_config, \n",
        "                           overwrite=True)\n",
        "\n",
        "aci_service.wait_for_deployment(show_output=True)"
      ],
      "outputs": [],
      "execution_count": null,
      "metadata": {
        "gather": {
          "logged": 1686296768535
        }
      }
    },
    {
      "cell_type": "code",
      "source": [
        "# get the active api endpoint for scoring\n",
        "print(f\"Service State: {aci_service.state}\\n\")\n",
        "print(f\"Scoring URI:   {aci_service.scoring_uri}\\n\")\n",
        "print(f\"Swagger URI:   {aci_service.swagger_uri}\\n\")"
      ],
      "outputs": [],
      "execution_count": null,
      "metadata": {
        "gather": {
          "logged": 1686296768567
        }
      }
    },
    {
      "cell_type": "markdown",
      "source": [
        "### Consuming the model\n",
        "TODO: In the cell below, send a request to the web service you deployed to test it."
      ],
      "metadata": {}
    },
    {
      "cell_type": "code",
      "source": [
        "# Send a request to the web service\n",
        "import json\n",
        "import requests\n",
        "\n",
        "'''\n",
        "input_data = json.dumps({\n",
        "    \"data\": [\n",
        "            [75.0, 0.0, 582.0, 0.0, 20.0, 1.0, 265000.0, 1.9, 130.0, 1.0, 0.0, 4.0],\n",
        "            [80.0, 1.0, 123.0, 0.0, 35.0, 1.0, 388000.0, 9.4, 133.0, 1.0, 1.0, 10.0],\n",
        "            [62.0, 0.0, 61.0, 1.0, 38.0, 1.0, 155000.0, 1.1, 143.0, 1.0, 1.0, 270.0],\n",
        "            [50.0, 1.0, 111.0, 0.0, 20.0, 0.0, 210000.0, 1.9, 137.0, 1.0, 0.0, 7.0]\n",
        "        ]\n",
        "    })\n",
        "'''\n",
        "\n",
        "# 4 sets of data to score, so we get two results back\n",
        "test_sample = test_df.sample(n=4)\n",
        "labels = test_sample.pop('DEATH_EVENT')\n",
        "\n",
        "\n",
        "# Convert to JSON string\n",
        "input_data = json.dumps({\"data\": test_sample.to_dict(orient='records')})\n",
        "with open(\"input_data.json\", 'w') as _f:\n",
        "    _f.write(input_data)\n",
        "\n",
        "print(input_data)\n",
        "\n",
        "response = requests.post(aci_service.scoring_uri, data=input_data, headers={'Content-Type':'application/json'})"
      ],
      "outputs": [],
      "execution_count": null,
      "metadata": {
        "gather": {
          "logged": 1686296768601
        }
      }
    },
    {
      "cell_type": "code",
      "source": [
        "print(f\"Predictions from Service: {response.json()}\\n\")\n",
        "print(f\"Data Labels: {labels.tolist()}\")"
      ],
      "outputs": [],
      "execution_count": null,
      "metadata": {
        "gather": {
          "logged": 1686296768636
        }
      }
    },
    {
      "cell_type": "markdown",
      "source": [
        "### Print the logs of the web service and delete the service\n",
        "TODO: In the cell below, print the logs of the web service and delete the service"
      ],
      "metadata": {}
    },
    {
      "cell_type": "code",
      "source": [
        "# Print the log of the webservice\n",
        "print(aci_service.get_logs())"
      ],
      "outputs": [],
      "execution_count": null,
      "metadata": {
        "gather": {
          "logged": 1686296768668
        }
      }
    },
    {
      "cell_type": "code",
      "source": [
        "# Delete the webservice, model, and shut down the compute cluster\n",
        "aci_service.delete()\n",
        "model.delete()\n",
        "amlcompute_target.delete()"
      ],
      "outputs": [],
      "execution_count": null,
      "metadata": {
        "gather": {
          "logged": 1686296768694
        }
      }
    },
    {
      "cell_type": "markdown",
      "source": [
        "**Submission Checklist**\n",
        "- I have registered the model.\n",
        "- I have deployed the model with the best accuracy as a webservice.\n",
        "- I have tested the webservice by sending a request to the model endpoint.\n",
        "- I have deleted the webservice and shutdown all the computes that I have used.\n",
        "- I have taken a screenshot showing the model endpoint as active.\n",
        "- The project includes a file containing the environment details.\n",
        "\n"
      ],
      "metadata": {}
    },
    {
      "cell_type": "markdown",
      "source": [],
      "metadata": {}
    }
  ],
  "metadata": {
    "kernel_info": {
      "name": "python38-azureml"
    },
    "kernelspec": {
      "name": "python38-azureml",
      "language": "python",
      "display_name": "Python 3.8 - AzureML"
    },
    "language_info": {
      "name": "python",
      "version": "3.8.5",
      "mimetype": "text/x-python",
      "codemirror_mode": {
        "name": "ipython",
        "version": 3
      },
      "pygments_lexer": "ipython3",
      "nbconvert_exporter": "python",
      "file_extension": ".py"
    },
    "microsoft": {
      "host": {
        "AzureML": {
          "notebookHasBeenCompleted": true
        }
      },
      "ms_spell_check": {
        "ms_spell_check_language": "en"
      }
    },
    "nteract": {
      "version": "nteract-front-end@1.0.0"
    }
  },
  "nbformat": 4,
  "nbformat_minor": 2
}
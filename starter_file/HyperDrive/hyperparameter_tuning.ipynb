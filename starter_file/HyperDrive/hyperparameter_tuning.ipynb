{
 "cells": [
  {
   "cell_type": "markdown",
   "metadata": {},
   "source": [
    "# Hyperparameter Tuning using HyperDrive\n",
    "\n",
    "## Import libraries for Azure Machine Learning SDK"
   ]
  },
  {
   "cell_type": "code",
   "execution_count": null,
   "metadata": {
    "gather": {
     "logged": 1598531914256
    }
   },
   "outputs": [],
   "source": [
    "import os\n",
    "import shutil\n",
    "import numpy as np \n",
    "import pandas as pd \n",
    "import azureml.core\n",
    "import pkg_resources\n",
    "import joblib\n",
    "import requests\n",
    "import json\n",
    "\n",
    "from matplotlib import pyplot as plt\n",
    "from sklearn import datasets\n",
    "from sklearn.model_selection import train_test_split\n",
    "\n",
    "from azureml.data.dataset_factory import TabularDatasetFactory\n",
    "from azureml.widgets import RunDetails\n",
    "\n",
    "from azureml.core import Environment, Workspace, Experiment, ScriptRunConfig\n",
    "from azureml.core.conda_dependencies import CondaDependencies\n",
    "from azureml.core.model import Model, InferenceConfig\n",
    "from azureml.core.webservice import Webservice, AciWebservice\n",
    "\n",
    "from azureml.train.sklearn import SKLearn\n",
    "from azureml.train.hyperdrive.policy import BanditPolicy, MedianStoppingPolicy\n",
    "from azureml.train.hyperdrive.run import PrimaryMetricGoal\n",
    "from azureml.train.hyperdrive.runconfig import HyperDriveConfig\n",
    "from azureml.train.hyperdrive.sampling import RandomParameterSampling\n",
    "from azureml.train.hyperdrive.parameter_expressions import uniform, choice\n",
    "\n",
    "# Check the core SDK version number\n",
    "print(\"SDK version:\", azureml.core.VERSION)"
   ]
  },
  {
   "cell_type": "markdown",
   "metadata": {},
   "source": [
    "## Dataset\n",
    "### Initialize Workspace\n",
    "Initialize a workspace object from persisted configuration. Make sure the config file is present at .\\config.json"
   ]
  },
  {
   "cell_type": "code",
   "execution_count": null,
   "metadata": {
    "gather": {
     "logged": 1598531917374
    },
    "jupyter": {
     "outputs_hidden": false,
     "source_hidden": false
    },
    "nteract": {
     "transient": {
      "deleting": false
     }
    }
   },
   "outputs": [],
   "source": [
    "ws = Workspace.from_config()\n",
    "\n",
    "print('Workspace name:\\t' + ws.name,\n",
    "      'Resource group:\\t' + ws.resource_group,\n",
    "      'Azure region:\\t' + ws.location,\n",
    "      'Subscription id:\\t' + ws.subscription_id, sep='\\n')"
   ]
  },
  {
   "cell_type": "markdown",
   "metadata": {},
   "source": [
    "### Create an Azure ML experiment"
   ]
  },
  {
   "cell_type": "code",
   "execution_count": null,
   "metadata": {},
   "outputs": [],
   "source": [
    "# Name for experiment\n",
    "experiment_name = 'hyperdrive-heart-failure-experiment'\n",
    "\n",
    "experiment=Experiment(ws, experiment_name)\n",
    "run = experiment.start_logging()\n",
    "\n",
    "experiment"
   ]
  },
  {
   "cell_type": "markdown",
   "metadata": {},
   "source": [
    "### Create or Attach an AmlCompute Target\n",
    "We will need to create a compute target for our AutoML run. We will use ***vm_size = Standard_DS3_v2*** in our provisioning configuration and select ***max_nodes*** to be no greater than 4."
   ]
  },
  {
   "cell_type": "code",
   "execution_count": null,
   "metadata": {},
   "outputs": [],
   "source": [
    "from azureml.core.compute import ComputeTarget, AmlCompute\n",
    "from azureml.core.compute_target import ComputeTargetException\n",
    "\n",
    "# Name for the CPU cluster\n",
    "amlcompute_cluster_name = \"hyperdrive-cpu-compute-cluster\"\n",
    "\n",
    "# Verify that cluster does not exist already\n",
    "try:\n",
    "    amlcompute_target = ComputeTarget(workspace=ws, name=amlcompute_cluster_name)\n",
    "    print('Found existing cluster, use it.')\n",
    "except ComputeTargetException:\n",
    "    amlcompute_config = AmlCompute.provisioning_configuration(vm_size='Standard_DS3_v2', max_nodes=4)\n",
    "    amlcompute_target = ComputeTarget.create(ws, amlcompute_cluster_name, amlcompute_config)\n",
    "\n",
    "amlcompute_target.wait_for_completion(show_output=True)"
   ]
  },
  {
   "cell_type": "code",
   "execution_count": null,
   "metadata": {},
   "outputs": [],
   "source": [
    "compute_targets = ws.compute_targets\n",
    "\n",
    "for i, key in enumerate(compute_targets):\n",
    "    print(f\"{i+1}. Compute target\\n\\tname: {compute_targets[key].name}\\n\\tType: {compute_targets[key].type}\")"
   ]
  },
  {
   "cell_type": "code",
   "execution_count": null,
   "metadata": {},
   "outputs": [],
   "source": [
    "# For a more detailed view of current AmlCompute status, use get_status().\n",
    "print(amlcompute_target.get_status().serialize())"
   ]
  },
  {
   "cell_type": "markdown",
   "metadata": {},
   "source": [
    "### Dataset"
   ]
  },
  {
   "cell_type": "code",
   "execution_count": null,
   "metadata": {},
   "outputs": [],
   "source": [
    "from azureml.core.dataset import Dataset\n",
    "\n",
    "# Try to load the dataset from the Workspace. Otherwise, create it from the file\n",
    "description_text = \"Health Failure dataset from UCI ML-Repository for mortality prediction for the Capstone Project.\"\n",
    "key = \"HealthFailure Dataset\"      # the key to match the dataset name\n",
    "\n",
    "dataset_url = \"https://archive.ics.uci.edu/ml/machine-learning-databases/00519/heart_failure_clinical_records_dataset.csv\"\n",
    "\n",
    "if key in ws.datasets.keys():\n",
    "    dataset = ws.datasets[key]\n",
    "    print(\"The Dataset was found!\")\n",
    "else:\n",
    "    dataset = Dataset.Tabular.from_delimited_files(dataset_url) # Create AML Dataset and register it into Workspace\n",
    "    dataset = dataset.register(workspace=ws, name=key, description=description_text) # Register Dataset in Workspace\n",
    "\n",
    "df = dataset.to_pandas_dataframe()"
   ]
  },
  {
   "cell_type": "code",
   "execution_count": null,
   "metadata": {},
   "outputs": [],
   "source": [
    "df.describe()"
   ]
  },
  {
   "cell_type": "code",
   "execution_count": null,
   "metadata": {},
   "outputs": [],
   "source": [
    "df.head()"
   ]
  },
  {
   "cell_type": "markdown",
   "metadata": {},
   "source": [
    "#### Prepare the datasets for the Automation"
   ]
  },
  {
   "cell_type": "code",
   "execution_count": null,
   "metadata": {},
   "outputs": [],
   "source": [
    "from sklearn.model_selection import train_test_split\n",
    "from azureml.data.dataset_factory import TabularDatasetFactory\n",
    "\n",
    "# Split the dataset into training and testing datasets\n",
    "train_df, test_df = train_test_split(df, test_size=0.2, shuffle=True)\n",
    "\n",
    "# Save training data to csv file\n",
    "train_df.to_csv(\"./data/train_data.csv\", index=False)\n",
    "\n",
    "# Read saved training data and create a dataset in Azure ML\n",
    "data_store = ws.get_default_datastore()\n",
    "data_store.upload(src_dir=\"./data\", target_path=\"training_data\")\n",
    "train_ds = TabularDatasetFactory.from_delimited_files(path=[(data_store, 'training_data/train_data.csv')])"
   ]
  },
  {
   "cell_type": "markdown",
   "metadata": {},
   "source": [
    "#### Review the Training Dataset Result"
   ]
  },
  {
   "cell_type": "code",
   "execution_count": null,
   "metadata": {},
   "outputs": [],
   "source": [
    "train_ds.take(5).to_pandas_dataframe()"
   ]
  },
  {
   "cell_type": "markdown",
   "metadata": {
    "collapsed": true,
    "gather": {
     "logged": 1598531923519
    },
    "jupyter": {
     "outputs_hidden": false,
     "source_hidden": false
    },
    "nteract": {
     "transient": {
      "deleting": false
     }
    }
   },
   "source": [
    "## Hyperdrive Configuration\n",
    "\n",
    "TODO: Explain the model you are using and the reason for chosing the different hyperparameters, termination policy and config settings.\n",
    "\n",
    "The pipeline we use here consists of a custom logistic regression model of the scikit-learn model stored in the ***train.py*** script and a hyperdrive run that iterates through the model parameters.\n",
    "- Setting logistic regression parameters:\n",
    "    - --C - Inverse of regularization strenght\n",
    "    - --max_iter - Maximum number of iterations convergence\n",
    "\n",
    "***RandomParameterSampling*** defines random sampling over a hyperparameter search space. This sampling algorithm selects parameter values from a series of discrete values or a distribution over a continuous range. This has an advantage over the GridSearch method, which executes all combinations of parameters and takes a long time to execute.\n",
    "\n",
    "For the \"*Inverse of regularization strength*\" parameter, I chose a uniform distribution with min=0.0001 and max=1.0. For the maximum number of iterations convergence, I entered a range of values (5, 25, 50, 100, 200, 500, 1000).\n",
    "\n",
    "***BanditPolicy*** class Defines a early termination policy based on Slack criteria and a frequency and delay interval for evaluation. This goes a long way towards ensuring that if a model with certain parameters does not work well, it is rejected instead of letting it run longer.\n",
    "\n",
    "The training takes place on the local computing target. Accuracy was chosen as the primary metric with the goal of maximizing accuracy. To keep the training short, max_total_runs was set to 50 and max_duration_minutes to 20.\n",
    "\n",
    "***max_concurrent_runs = 4*** : The maximum number of iterations that could be run in parallel. It is recommended to create a dedicated cluster per experiment and adjust the number of max_concurrent_iterations of your experiment to the number of nodes in the cluster. In this way you use all nodes of the cluster at the same time with the desired number of concurrent child runs/iterations. So I set the value to 4."
   ]
  },
  {
   "cell_type": "code",
   "execution_count": null,
   "metadata": {
    "gather": {
     "logged": 1598544893076
    },
    "jupyter": {
     "outputs_hidden": false,
     "source_hidden": false
    },
    "nteract": {
     "transient": {
      "deleting": false
     }
    }
   },
   "outputs": [],
   "source": [
    "# TODO: Create an early termination policy. This is not required if you are using Bayesian sampling.\n",
    "###early_termination_policy = <your policy here>\n",
    "early_termination_policy = BanditPolicy(evaluation_interval=2, slack_factor=0.1)\n",
    "\n",
    "#TODO: Create the different params that you will be using during training\n",
    "###param_sampling = <your params here>\n",
    "param_sampling = RandomParameterSampling(\n",
    "    {\n",
    "        \"--C\": uniform(0.0001, 1.0),\n",
    "        \"--max_iter\": choice(5, 25, 50, 100, 200, 500, 1000)\n",
    "    }\n",
    ")\n",
    "\n",
    "script_folder = \"./training\"\n",
    "\n",
    "if \"training\" not in os.listdir():\n",
    "    os.mkdir(script_folder)\n",
    "    \n",
    "shutil.copy('./train.py', script_folder)\n",
    "\n",
    "#TODO: Create your estimator and hyperdrive config\n",
    "###estimator = <your estimator here>\n",
    "estimator = SKLearn(source_directory=script_folder,\n",
    "                    compute_target=amlcompute_target,\n",
    "                    entry_script=\"train.py\")\n",
    "\n",
    "###hyperdrive_run_config = <your config here>\n",
    "hyperdrive_run_config = HyperDriveConfig(estimator=estimator,\n",
    "                                         hyperparameter_sampling=param_sampling,\n",
    "                                         primary_metric_name=\"Accuracy\",\n",
    "                                         primary_metric_goal=PrimaryMetricGoal.MAXIMIZE,\n",
    "                                         max_total_runs=50,\n",
    "                                         max_duration_minutes=20,\n",
    "                                         max_concurrent_runs=4,\n",
    "                                         policy=early_termination_policy)"
   ]
  },
  {
   "cell_type": "code",
   "execution_count": null,
   "metadata": {
    "gather": {
     "logged": 1598544897941
    },
    "jupyter": {
     "outputs_hidden": false,
     "source_hidden": false
    },
    "nteract": {
     "transient": {
      "deleting": false
     }
    }
   },
   "outputs": [],
   "source": [
    "#TODO: Submit your experiment\n",
    "# Submit the experiment on the configured remote compute cluster\n",
    "hyperdrive_run = experiment.submit(config=hyperdrive_run_config)"
   ]
  },
  {
   "cell_type": "code",
   "execution_count": null,
   "metadata": {},
   "outputs": [],
   "source": [
    "hyperdrive_run.wait_for_completion(show_output=True)"
   ]
  },
  {
   "cell_type": "markdown",
   "metadata": {
    "collapsed": true,
    "gather": {
     "logged": 1598544898497
    },
    "jupyter": {
     "outputs_hidden": false,
     "source_hidden": false
    },
    "nteract": {
     "transient": {
      "deleting": false
     }
    }
   },
   "source": [
    "## Run Details\n",
    "\n",
    "OPTIONAL: Write about the different models trained and their performance. Why do you think some models did better than others?\n",
    "\n",
    "Use the `RunDetails` widget to show the different experiments."
   ]
  },
  {
   "cell_type": "code",
   "execution_count": null,
   "metadata": {
    "gather": {
     "logged": 1598546648408
    },
    "jupyter": {
     "outputs_hidden": false,
     "source_hidden": false
    },
    "nteract": {
     "transient": {
      "deleting": false
     }
    }
   },
   "outputs": [],
   "source": [
    "RunDetails(hyperdrive_run).show()\n",
    "for children_run in hyperdrive_run.get_children():\n",
    "    print('-----------------------------------')\n",
    "    print(children_run)"
   ]
  },
  {
   "cell_type": "markdown",
   "metadata": {},
   "source": [
    "## Best Model\n",
    "\n",
    "TODO: In the cell below, get the best model from the hyperdrive experiments and display all the properties of the model."
   ]
  },
  {
   "cell_type": "code",
   "execution_count": null,
   "metadata": {
    "gather": {
     "logged": 1598546650307
    },
    "jupyter": {
     "outputs_hidden": false,
     "source_hidden": false
    },
    "nteract": {
     "transient": {
      "deleting": false
     }
    }
   },
   "outputs": [],
   "source": [
    "# evaluate if the the run is indeed complete\n",
    "assert(hyperdrive_run.get_status() == \"Completed\")"
   ]
  },
  {
   "cell_type": "code",
   "execution_count": null,
   "metadata": {},
   "outputs": [],
   "source": [
    "# get the best run and display the properties of the model\n",
    "best_run = hyperdrive_run.get_best_run_by_primary_metric()\n",
    "best_run_metrics = best_run.get_metrics()\n",
    "parameter_values = best_run.get_details()['runDefinition']['arguments']\n",
    "\n",
    "print(\"Best Experiment Run:\")\n",
    "print(\"-------------------------------------------\")\n",
    "print('Best Run Id: ', best_run.id)\n",
    "print('Accuracy:', best_run_metrics['Accuracy'])\n",
    "print('Regularization Strength:',best_run_metrics['Regularization Strength:'])\n",
    "print('Max iterations:',best_run_metrics['Max iterations:'])\n",
    "\n",
    "best_run"
   ]
  },
  {
   "cell_type": "code",
   "execution_count": null,
   "metadata": {},
   "outputs": [],
   "source": [
    "best_run.get_details()"
   ]
  },
  {
   "cell_type": "code",
   "execution_count": null,
   "metadata": {},
   "outputs": [],
   "source": [
    "best_run.get_metrics()"
   ]
  },
  {
   "cell_type": "code",
   "execution_count": null,
   "metadata": {},
   "outputs": [],
   "source": [
    "for primary_metric in best_run.get_metrics():\n",
    "    metric=best_run_metrics[primary_metric]\n",
    "    print(primary_metric,metric)"
   ]
  },
  {
   "cell_type": "code",
   "execution_count": null,
   "metadata": {},
   "outputs": [],
   "source": [
    "best_run.get_metrics(name='Accuracy')"
   ]
  },
  {
   "cell_type": "code",
   "execution_count": null,
   "metadata": {},
   "outputs": [],
   "source": [
    "best_run.get_properties()"
   ]
  },
  {
   "cell_type": "markdown",
   "metadata": {},
   "source": [
    "### Test the best model"
   ]
  },
  {
   "cell_type": "code",
   "execution_count": null,
   "metadata": {},
   "outputs": [],
   "source": [
    "# Split into x and y tests\n",
    "y_test = test_df['DEATH_EVENT']\n",
    "x_test = test_df.drop(['DEATH_EVENT'],axis=1)"
   ]
  },
  {
   "cell_type": "code",
   "execution_count": null,
   "metadata": {},
   "outputs": [],
   "source": [
    "from sklearn.metrics import confusion_matrix\n",
    "\n",
    "# Test the best model and create a confusion matrix\n",
    "ypred = best_model.predict(x_test)\n",
    "cmatrix = confusion_matrix(y_test, ypred)\n",
    "\n",
    "# Visualize the confusion matrix\n",
    "##pd.DataFrame(cmatrix)\n",
    "pd.DataFrame(cmatrix).style.background_gradient(cmap='Blues', low=0, high=0.9)"
   ]
  },
  {
   "cell_type": "markdown",
   "metadata": {},
   "source": [
    "### Save the best model"
   ]
  },
  {
   "cell_type": "code",
   "execution_count": null,
   "metadata": {},
   "outputs": [],
   "source": [
    "best_run.get_file_names()"
   ]
  },
  {
   "cell_type": "code",
   "execution_count": null,
   "metadata": {},
   "outputs": [],
   "source": [
    "best_run.register_model(model_name='best_run_hyperdrive', model_path='./outputs/')"
   ]
  },
  {
   "cell_type": "code",
   "execution_count": null,
   "metadata": {},
   "outputs": [],
   "source": [
    "from azureml.automl.core.shared import constants\n",
    "\n",
    "# create inference folder\n",
    "inference_folder = 'inference'\n",
    "if inference_folder not in os.listdir():\n",
    "    os.mkdir(inference_folder)\n",
    "\n",
    "# Save the best model\n",
    "##joblib.dump(best_model, filename = inference_folder + '/best_automl_model.joblib')\n",
    "##joblib.dump(value=best_model, filename='output/best-automl.pkl')\n",
    "\n",
    "# Save the best model, scoring script, and conda env files in inference folder\n",
    "best_run.download_file('outputs/scoring_file_v_1_0_0.py', inference_folder + '/best_hyperdrive_score.py')\n",
    "best_run.download_file('outputs/model.pkl', inference_folder + '/best_hyperdrive_model.pkl')\n",
    "\n",
    "best_run.download_file('outputs/conda_env_v_1_0_0.yml', inference_folder + 'hyperdrive_conda_env.yml')\n",
    "##best_run.download_file(constants.CONDA_ENV_FILE_PATH, inference_folder + 'hyperdrive_conda_env.yml')"
   ]
  },
  {
   "cell_type": "markdown",
   "metadata": {},
   "source": [
    "### Save the environment"
   ]
  },
  {
   "cell_type": "code",
   "execution_count": null,
   "metadata": {},
   "outputs": [],
   "source": [
    "# get the list of environments\n",
    "Environment.list(workspace=ws).keys()"
   ]
  },
  {
   "cell_type": "code",
   "execution_count": null,
   "metadata": {},
   "outputs": [],
   "source": [
    "# save the environment\n",
    "my_env = Environment.get(workspace=ws, name=\"AzureML-AutoML\")\n",
    "my_env.save_to_directory('env', overwrite=True)\n",
    "\n",
    "my_env"
   ]
  },
  {
   "cell_type": "markdown",
   "metadata": {
    "collapsed": true,
    "jupyter": {
     "outputs_hidden": false,
     "source_hidden": false
    },
    "nteract": {
     "transient": {
      "deleting": false
     }
    }
   },
   "source": [
    "## Model Deployment\n",
    "\n",
    "Remember you have to deploy only one of the two models you trained but you still need to register both the models. Perform the steps in the rest of this notebook only if you wish to deploy this model.\n",
    "\n",
    "TODO: In the cell below, register the model, create an inference config and deploy the model as a web service."
   ]
  },
  {
   "cell_type": "code",
   "execution_count": null,
   "metadata": {},
   "outputs": [],
   "source": [
    "# Register the model\n",
    "from azureml.core.resource_configuration import ResourceConfiguration\n",
    "\n",
    "model_name = best_run.properties['model_name']\n",
    "local_file = inference_folder + '/best_automl_model.pkl'\n",
    "\n",
    "run_id = best_run.id\n",
    "experiment_name = best_run.experiment.name\n",
    "\n",
    "model = Model.register(workspace = ws,\n",
    "                       model_name = model_name,                        # Name of the registered model in your workspace.\n",
    "                       model_path = local_file,                        # Local file to upload and register as a model.\n",
    "                       model_framework = Model.Framework.SCIKITLEARN,  # Framework used to create the model.\n",
    "                       model_framework_version = sklearn.__version__,  # Version of scikit-learn used to create the model.\n",
    "                       description = 'Best autoML model to predict motality caused by heart failure.',\n",
    "                       tags={'area': 'heart-failure', 'type': 'classification'})\n",
    "\n",
    "print('Model name:', model.name)\n",
    "print('Model id:', model.id)\n",
    "print('Model version:', model.version)"
   ]
  },
  {
   "cell_type": "code",
   "execution_count": null,
   "metadata": {},
   "outputs": [],
   "source": [
    "# create inference configuration\n",
    "from azureml.core.environment import Environment\n",
    "from azureml.core.model import InferenceConfig\n",
    "\n",
    "env = Environment.from_conda_specification(name=\"my_env\", file_path=inference_folder + 'automl_conda_env.yml')\n",
    "env\n",
    "#### Siehe Oben my_env --> Ist es gleich?\n",
    "\n",
    "inference_config = InferenceConfig(entry_script=inference_folder + '/best_automl_score.py', environment=env)\n",
    "\n",
    "# display the environment file\n",
    "with open(file_path=inference_folder + 'automl_conda_env.yml', 'r') as file:\n",
    "    env_file = file.read()\n",
    "    print(env_file)"
   ]
  },
  {
   "cell_type": "code",
   "execution_count": null,
   "metadata": {},
   "outputs": [],
   "source": [
    "# Model Deployment\n",
    "from azureml.core.webservice import AciWebservice\n",
    "\n",
    "# define deployment configuration\n",
    "aci_deployment_config = AciWebservice.deploy_configuration(cpu_cores=1,\n",
    "                                                           memory_gb=1,\n",
    "                                                           tags={'area': \"heart-failure\", 'type': \"classification\"},\n",
    "                                                           description=\"Predict heart failure mortality using classification model\",\n",
    "                                                           auth_enabled=True,\n",
    "                                                           enable_app_insights=True)\n",
    "\n",
    "# deploy model as webservice using Azure Container Instance(ACI)\n",
    "aci_service = Model.deploy(workspace = ws, \n",
    "                           name = \"aci-heart-failure-deploy\", \n",
    "                           models = [model], \n",
    "                           inference_config = inference_config, \n",
    "                           deployment_config = aci_deployment_config, \n",
    "                           overwrite=True)\n",
    "\n",
    "aci_service.wait_for_deployment(show_output=True)"
   ]
  },
  {
   "cell_type": "code",
   "execution_count": null,
   "metadata": {},
   "outputs": [],
   "source": [
    "# get the active api endpoint for scoring\n",
    "print(f\"Service State: {aci_service.state}\\n\")\n",
    "print(f\"Scoring URI:   {aci_service.scoring_uri}\\n\")\n",
    "print(f\"Swagger URI:   {aci_service.swagger_uri}\\n\")"
   ]
  },
  {
   "cell_type": "markdown",
   "metadata": {},
   "source": [
    "### Consuming the model\n",
    "TODO: In the cell below, send a request to the web service you deployed to test it."
   ]
  },
  {
   "cell_type": "code",
   "execution_count": null,
   "metadata": {},
   "outputs": [],
   "source": [
    "# Send a request to the web service\n",
    "import json\n",
    "import requests\n",
    "\n",
    "'''\n",
    "input_data = json.dumps({\n",
    "    \"data\": [\n",
    "            [75.0, 0.0, 582.0, 0.0, 20.0, 1.0, 265000.0, 1.9, 130.0, 1.0, 0.0, 4.0],\n",
    "            [80.0, 1.0, 123.0, 0.0, 35.0, 1.0, 388000.0, 9.4, 133.0, 1.0, 1.0, 10.0],\n",
    "            [62.0, 0.0, 61.0, 1.0, 38.0, 1.0, 155000.0, 1.1, 143.0, 1.0, 1.0, 270.0],\n",
    "            [50.0, 1.0, 111.0, 0.0, 20.0, 0.0, 210000.0, 1.9, 137.0, 1.0, 0.0, 7.0]\n",
    "        ]\n",
    "    })\n",
    "'''\n",
    "\n",
    "# 4 sets of data to score, so we get two results back\n",
    "test_sample = test_df.sample(n=4)\n",
    "labels = test_sample.pop('DEATH_EVENT')\n",
    "\n",
    "\n",
    "# Convert to JSON string\n",
    "input_data = json.dumps({\"data\": test_sample.to_dict(orient='records')})\n",
    "with open(\"input_data.json\", 'w') as _f:\n",
    "    _f.write(input_data)\n",
    "\n",
    "print(input_data)\n",
    "\n",
    "response = requests.post(aci_service.scoring_uri, data=input_data, headers={'Content-Type':'application/json'})"
   ]
  },
  {
   "cell_type": "code",
   "execution_count": null,
   "metadata": {},
   "outputs": [],
   "source": [
    "print(f\"Predictions from Service: {response.json()}\\n\")\n",
    "print(f\"Data Labels: {labels.tolist()}\")"
   ]
  },
  {
   "cell_type": "markdown",
   "metadata": {},
   "source": [
    "### Print the logs of the web service and delete the service\n",
    "TODO: In the cell below, print the logs of the web service and delete the service"
   ]
  },
  {
   "cell_type": "code",
   "execution_count": null,
   "metadata": {},
   "outputs": [],
   "source": [
    "# Print the log of the webservice\n",
    "print(aci_service.get_logs())"
   ]
  },
  {
   "cell_type": "code",
   "execution_count": null,
   "metadata": {},
   "outputs": [],
   "source": [
    "# Delete the webservice, model, and shut down the compute cluster\n",
    "aci_service.delete()\n",
    "model.delete()\n",
    "amlcompute_target.delete()"
   ]
  },
  {
   "cell_type": "markdown",
   "metadata": {},
   "source": [
    "**Submission Checklist**\n",
    "- I have registered the model.\n",
    "- I have deployed the model with the best accuracy as a webservice.\n",
    "- I have tested the webservice by sending a request to the model endpoint.\n",
    "- I have deleted the webservice and shutdown all the computes that I have used.\n",
    "- I have taken a screenshot showing the model endpoint as active.\n",
    "- The project includes a file containing the environment details.\n",
    "\n"
   ]
  },
  {
   "cell_type": "markdown",
   "metadata": {},
   "source": []
  }
 ],
 "metadata": {
  "kernel_info": {
   "name": "python3-azureml"
  },
  "kernelspec": {
   "display_name": "Python 3 (ipykernel)",
   "language": "python",
   "name": "python3"
  },
  "language_info": {
   "codemirror_mode": {
    "name": "ipython",
    "version": 3
   },
   "file_extension": ".py",
   "mimetype": "text/x-python",
   "name": "python",
   "nbconvert_exporter": "python",
   "pygments_lexer": "ipython3",
   "version": "3.9.15"
  },
  "nteract": {
   "version": "nteract-front-end@1.0.0"
  }
 },
 "nbformat": 4,
 "nbformat_minor": 2
}
